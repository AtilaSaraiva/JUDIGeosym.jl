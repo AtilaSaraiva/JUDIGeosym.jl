{
 "cells": [
  {
   "cell_type": "markdown",
   "id": "79abd170-a4e1-4d4f-a029-f8c9efff8e1c",
   "metadata": {},
   "source": [
    "# Automatic differentiation with JUDI\n",
    "\n",
    "In this tutorial, we will look at the automatic differentiation in julia, and in particular how [ChainRules.jl](https://github.com/JuliaDiff/ChainRules.jl) supports addition of your own differentiation rules into Julia's [Automatic Differentiation](https://juliadiff.org) system. This allows for seamless integration between your code, including its handcoded derivatives, and Julia's native AD systems, e.g. those used by [Flux](https://fluxml.ai/Flux.jl/stable/) Julia's machine learning platform. We use [ChainRules.jl](https://github.com/JuliaDiff/ChainRules.jl) to automatically differentiate codes that involve complex operations implemented by [JUDI.jl](https://github.com/slimgroup/JUDI.jl) (this example) and [JOLI.jl](https://github.com/slimgroup/JOLI.jl)."
   ]
  },
  {
   "cell_type": "markdown",
   "id": "47c8aaf9-f8a1-45d7-9d58-a320e74d42fb",
   "metadata": {},
   "source": [
    "## Introduction to chain rules\n",
    "\n",
    "We first provide a brief introduction to automatic differentiation and to `rrule`, the [ChainRules.jl](https://github.com/JuliaDiff/ChainRules.jl) interface used to define custom AD rules. With this rules defined, we show how we can use generic AD frameworks (Zygote/Flux in this tutorial) to compute gradients of complicated expression swaping in our own rule for part of the expression."
   ]
  },
  {
   "cell_type": "code",
   "execution_count": 2,
   "id": "956fa166-e8c6-43b4-bc7d-a5d447cc8337",
   "metadata": {},
   "outputs": [],
   "source": [
    "using Zygote, ChainRulesCore, LinearAlgebra"
   ]
  },
  {
   "cell_type": "markdown",
   "id": "a32563b4-5456-4478-8a89-1cfa5f0df9d4",
   "metadata": {},
   "source": [
    "### Simple example\n",
    "\n",
    "Let's consider a simple example with a basic differentiable function $x -> cos(x) + 1$"
   ]
  },
  {
   "cell_type": "code",
   "execution_count": 3,
   "id": "80a6140d-1cf5-4d0d-b868-a77e5626eceb",
   "metadata": {},
   "outputs": [
    {
     "data": {
      "text/plain": [
       "mycos (generic function with 1 method)"
      ]
     },
     "execution_count": 3,
     "metadata": {},
     "output_type": "execute_result"
    }
   ],
   "source": [
    "mycos(x) = cos(x) + 1"
   ]
  },
  {
   "cell_type": "markdown",
   "id": "d566d7b7-c622-4908-ac34-9f92d87c4d98",
   "metadata": {},
   "source": [
    "Now we know that the derivative of this function is $x -> -sin(x)$ from standard functional analysis.e can therefore define through chainrules a new rule for our function `f`"
   ]
  },
  {
   "cell_type": "code",
   "execution_count": 4,
   "id": "48bc1e91-2ed7-41e6-ae93-f519db2b3d9c",
   "metadata": {},
   "outputs": [],
   "source": [
    "function ChainRulesCore.rrule(::typeof(mycos), x)\n",
    "    println(\"Using custom AD rule for mycos\")\n",
    "    y = mycos(x)\n",
    "    pullback(Δy) = (NoTangent(), -sin(x)*Δy)\n",
    "    return y, pullback\n",
    "end"
   ]
  },
  {
   "cell_type": "markdown",
   "id": "30e97098-68fc-43b4-9db4-b436e3b158af",
   "metadata": {},
   "source": [
    "We now have the rule to compute the directional derivative of our function `mycos` . Let's check the gradient"
   ]
  },
  {
   "cell_type": "code",
   "execution_count": 5,
   "id": "258a2b81-914f-44cb-b27b-c7aab9f49e5e",
   "metadata": {},
   "outputs": [
    {
     "name": "stdout",
     "output_type": "stream",
     "text": [
      "Using custom AD rule for mycos\n",
      "True gradient: 2.4145498130248493 \n",
      "Standard AD  : 2.4145498130248493 \n",
      "Custom AD    : 2.4145498130248493\n"
     ]
    }
   ],
   "source": [
    "x0 = randn()\n",
    "# Standard AD of cos\n",
    "g1 = gradient(x->norm(cos(x)+1)^2, x0);\n",
    "# Our definition\n",
    "g2 = gradient(x->norm(mycos(x))^2, x0);\n",
    "# Analytical gradient\n",
    "g3 = -2*sin(x0)*(mycos(x0));\n",
    "println(\"True gradient: $(g3) \\nStandard AD  : $(g1[1]) \\nCustom AD    : $(g2[1])\")"
   ]
  },
  {
   "cell_type": "markdown",
   "id": "165cd502-a7c1-44cb-9a21-7304b5564200",
   "metadata": {},
   "source": [
    "And we see that we get the correct gradient. Now this is an extremely simple case, now let's look at a more complicated case where we define the AD rule for matrix-free operators defined in JOLI."
   ]
  },
  {
   "cell_type": "markdown",
   "id": "945124bc-1549-41b5-a47b-43553dc065d0",
   "metadata": {},
   "source": [
    "### JOLI\n",
    "\n",
    "We look at how we define automatic differentiation rules involding matrix-free linear operator. We consider operations of the form `A*x` where `A` is a JOLI matrix-free linear operator and we differentiate with respect to the input `x`\n",
    "\n",
    "In JOLI, the base type of our linear operator is `joAbstractLinearOperator`. If we define the rule for this abstract type, all linear operator should follow. Now in this case the acual operation to be differentiated is the multiplication `*` with two inputs (`A, x`). Because we consider `A` to be fixed,its derivative will be defined as `NoTangent` that is `ChainRules`'s way to state there is no derivative for this input."
   ]
  },
  {
   "cell_type": "markdown",
   "id": "68d2c1d3-c652-4d3c-949f-b60de9fd8bbc",
   "metadata": {},
   "source": [
    "<div class=\"alert alert-block alert-info\"> \n",
    "    <b>NOTE</b>\n",
    "    These rules are implemented inside JOLI and are merely implemented here as an illustration. JOLI operators are usable with FLux/Zygote by default and with any Julia ML framework implemented AD through ChainRules.jl\n",
    "</div>"
   ]
  },
  {
   "cell_type": "code",
   "execution_count": 8,
   "id": "c3441b5b-0d71-46ae-9816-71c7bbd3479a",
   "metadata": {},
   "outputs": [],
   "source": [
    "using JOLI"
   ]
  },
  {
   "cell_type": "code",
   "execution_count": 9,
   "id": "58925b2f-fb6f-4624-849c-c1462a7adfba",
   "metadata": {},
   "outputs": [],
   "source": [
    "function ChainRulesCore.rrule(::typeof(*), A::T, x) where {T<:joAbstractLinearOperator}\n",
    "    y = A*x\n",
    "    pullback(Δy) = (NoTangent(), NoTangent(), A'*Δy)\n",
    "    return y, pullback\n",
    "end"
   ]
  },
  {
   "cell_type": "markdown",
   "id": "586ba3dc-f0a0-41ab-82c3-c454da398b9d",
   "metadata": {},
   "source": [
    "With this rule defined we can now use a JOLI operator. Let's solve a simple data fitting problem with a restricted Fourier measuerment\n"
   ]
  },
  {
   "cell_type": "code",
   "execution_count": 10,
   "id": "00935311-ac38-4c61-a26e-f95680fd92eb",
   "metadata": {},
   "outputs": [],
   "source": [
    "using Random\n",
    "N = 128\n",
    "# Fourier transform as a linear operator\n",
    "F = joDFT(N)\n",
    "# Restriction\n",
    "R = joRomberg(N; DDT=Complex{Float64}, RDT=Complex{Float64})\n",
    "# Combine the operators\n",
    "A = R*F;"
   ]
  },
  {
   "cell_type": "code",
   "execution_count": 11,
   "id": "5d28d054-2e63-4b9d-9a93-c60a34c5e68f",
   "metadata": {},
   "outputs": [],
   "source": [
    "# Make data\n",
    "x = randn(128)\n",
    "b = A*x;"
   ]
  },
  {
   "cell_type": "markdown",
   "id": "fb9d10a8-fdab-4f94-8608-66e76ccdb406",
   "metadata": {},
   "source": [
    "Let's create a loss function"
   ]
  },
  {
   "cell_type": "code",
   "execution_count": 14,
   "id": "3c164ac8-29f9-4166-b010-46ebc4895dd0",
   "metadata": {},
   "outputs": [
    {
     "data": {
      "text/plain": [
       "loss (generic function with 1 method)"
      ]
     },
     "execution_count": 14,
     "metadata": {},
     "output_type": "execute_result"
    }
   ],
   "source": [
    "loss(x) = .5f0*norm(A*x - b)^2 + .5f0*norm(x, 2)^2"
   ]
  },
  {
   "cell_type": "markdown",
   "id": "de440386-a65a-407f-9550-6f96edbc02d1",
   "metadata": {},
   "source": [
    "We can now easily obtain the gradient at any given `x` since the only undefined part would have been the JOLI operator that now has its own differentiation rule"
   ]
  },
  {
   "cell_type": "code",
   "execution_count": 15,
   "id": "ce89a1b9-226e-492e-9b76-45acd6727d2f",
   "metadata": {},
   "outputs": [
    {
     "data": {
      "text/plain": [
       "([-1.6635067964534427, 4.086025761458475, 0.4202149882054386, 0.1503526373423797, 0.19413496947451758, -1.1525031937889045, 2.057293368349399, -2.15923993005869, -2.314844606755715, -2.5700953264420585  …  1.7387654379644988, -0.074502623912726, -0.3648443372580577, 1.7517539681882066, 0.18519905805170178, 2.2257412459593295, -2.1196681500456167, -0.0331046450562017, 0.8235130612864257, 0.8288759911493061],)"
      ]
     },
     "execution_count": 15,
     "metadata": {},
     "output_type": "execute_result"
    }
   ],
   "source": [
    "x0 = randn(128)\n",
    "g_ad = gradient(loss, x0)"
   ]
  },
  {
   "cell_type": "markdown",
   "id": "a7924690-a272-4ae6-ae4f-93581ed36f7c",
   "metadata": {},
   "source": [
    "Once again, we can compare to the know analytical gradient"
   ]
  },
  {
   "cell_type": "code",
   "execution_count": 18,
   "id": "f4ea7784-0c76-4e30-b91a-429f5a3acdba",
   "metadata": {},
   "outputs": [
    {
     "data": {
      "text/plain": [
       "0.0"
      ]
     },
     "execution_count": 18,
     "metadata": {},
     "output_type": "execute_result"
    }
   ],
   "source": [
    "g_hand = A'*(A*x0 - b) + x0;\n",
    "err = norm(g_hand - g_ad[1])"
   ]
  },
  {
   "cell_type": "markdown",
   "id": "7e768c46-aa97-4214-9770-98ad7ee8b04e",
   "metadata": {},
   "source": [
    "And we get the exact gradient without the AD system needing to know what `A` computes but using the prededined rule for `A*x`"
   ]
  },
  {
   "cell_type": "markdown",
   "id": "3647af64-c6ad-4fe7-984b-eebba3783814",
   "metadata": {},
   "source": [
    "### Optimization\n",
    "Let's now slve the problem above with standard gradient descent"
   ]
  },
  {
   "cell_type": "code",
   "execution_count": 19,
   "id": "9615904d-63bb-4aad-9141-4207f11db7a4",
   "metadata": {},
   "outputs": [
    {
     "name": "stderr",
     "output_type": "stream",
     "text": [
      "┌ Info: Precompiling Optim [429524aa-4258-5aef-a3af-852621145aeb]\n",
      "└ @ Base loading.jl:1662\n"
     ]
    }
   ],
   "source": [
    "using Optim"
   ]
  },
  {
   "cell_type": "code",
   "execution_count": 20,
   "id": "5b2c2120-9414-4ab5-b82c-7981bb2d3e8e",
   "metadata": {},
   "outputs": [],
   "source": [
    "δloss!(g, x) = begin g.=gradient(loss, x)[1]; return loss(x) end;"
   ]
  },
  {
   "cell_type": "code",
   "execution_count": 21,
   "id": "39d9d4ab-22d5-40c1-a7fb-5737f4b71214",
   "metadata": {},
   "outputs": [
    {
     "name": "stdout",
     "output_type": "stream",
     "text": [
      "Iter     Function value   Gradient norm \n",
      "     0     1.676802e+02     5.416980e+00\n",
      " * time: 0.0076007843017578125\n",
      "     1     3.041629e+01     2.892131e-14\n",
      " * time: 0.36812281608581543\n"
     ]
    },
    {
     "data": {
      "text/plain": [
       " * Status: success\n",
       "\n",
       " * Candidate solution\n",
       "    Final objective value:     3.041629e+01\n",
       "\n",
       " * Found with\n",
       "    Algorithm:     Conjugate Gradient\n",
       "\n",
       " * Convergence measures\n",
       "    |x - x'|               = 2.71e+00 ≰ 0.0e+00\n",
       "    |x - x'|/|x'|          = 2.16e+00 ≰ 0.0e+00\n",
       "    |f(x) - f(x')|         = 1.37e+02 ≰ 0.0e+00\n",
       "    |f(x) - f(x')|/|f(x')| = 4.51e+00 ≰ 0.0e+00\n",
       "    |g(x)|                 = 2.89e-14 ≤ 1.0e-12\n",
       "\n",
       " * Work counters\n",
       "    Seconds run:   0  (vs limit Inf)\n",
       "    Iterations:    1\n",
       "    f(x) calls:    3\n",
       "    ∇f(x) calls:   2\n"
      ]
     },
     "execution_count": 21,
     "metadata": {},
     "output_type": "execute_result"
    }
   ],
   "source": [
    "summary = optimize(loss, δloss!, randn(N), ConjugateGradient(),\n",
    "                   Optim.Options(g_tol = 1e-12, iterations = 200, store_trace = true, show_trace = true, show_every=1))"
   ]
  },
  {
   "cell_type": "code",
   "execution_count": 22,
   "id": "710352fd-b305-4526-a930-089fcc4e6a15",
   "metadata": {},
   "outputs": [
    {
     "data": {
      "image/png": "[encoded data removed]",
      "text/plain": [
       "Figure(PyObject <Figure size 640x480 with 1 Axes>)"
      ]
     },
     "metadata": {},
     "output_type": "display_data"
    },
    {
     "data": {
      "text/plain": [
       "PyObject <matplotlib.legend.Legend object at 0x28995e5b0>"
      ]
     },
     "execution_count": 22,
     "metadata": {},
     "output_type": "execute_result"
    }
   ],
   "source": [
    "using PyPlot\n",
    "plot(x, label=\"true\")\n",
    "plot(summary.minimizer, label=\"Recovered\")\n",
    "legend()"
   ]
  },
  {
   "cell_type": "markdown",
   "id": "182c07f5-3619-4df9-8fd3-6cba4a481823",
   "metadata": {},
   "source": [
    "# Automatic differentiation for JUDI\n",
    "\n",
    "With this introductory example, we have seen how to define simple derivative reverse rules. However, seismic inversion tend to rely and much more complicated operator such as the discrete wave-equation and its non-linear dependence to the velocity. While implementing a pure native-julia propagator using simple artithmetic operations easy to differentiate would be possible, this would limit the control user have on crtitical pieces such as the imaging condition and the memory management for the forward wavefield.  Consequently, most seismic inversion framework a very carefully implemented but do not necessarly allow for plug-and-play with external framework. This incompatibility makes the integration of modern machine learning algorithms extremely complciated, if feasible at all, with these legacy software.\n",
    "\n",
    "\n",
    "In JUDI, we made design choice from the beginning of high level abstractions and separation of concern that allow easy extension. In the following, we will demonstrate how JUDI can be integrated with machine learning algorithm trivially thanks to the definition of the core rules for adjoint state problem. More specifically, JUDI implements the rule for the following derivatives:\n",
    "\n",
    "- $\\frac{d \\mathbf{F} * \\mathbf{q}}{d \\mathbf{q}}$ where $\\mathbf{F} = \\mathbf{P}_r \\mathbf{A}^{s} \\mathbf{P}_s^T$ is a forward ($s=-1$) or adjoint ($s=-*$) propagator. JUDI supports numerous cases including full wavefield modelling ($\\mathbf{P}_s=\\mathbf{P}_r=\\mathcal{I}$, stanrad point source and point receivers, and extendend source modeling. \n",
    "- $\\frac{d \\mathbf{F} * \\mathbf{q}}{d \\mathbf{m}}$ where $\\mathbf{F}$ is a forward ($s=-1$) or adjoint ($s=-*$) propagator. This effectively allow for FWI with any chosen misfit function $\\rho_{\\mathbf{m}}(\\mathbf{F} * \\mathbf{q}, \\mathbf{q})$\n",
    "- $\\frac{d \\mathbf{J} * \\mathbf{dm}}{d \\mathbf{dm}}$ where $\\mathbf{J}$ is the standard FWI/RTM jacobian of the forward operator $\\mathbf{F}$\n",
    "- $\\frac{d \\mathbf{J}(\\mathbf{q}) * \\mathbf{dm}}{d \\mathbf{q}}$ where once again $\\mathbf{J}$ is the standard FWI/RTM jacobian of the forward operator and $\\mathbf{q}$ is the source of the forward modeling operator\n",
    "\n",
    "\n",
    "With all these derivatives predefine, we can easily let the implementation of the propagators and Jacobian handle high performance kernels (via [Devito](https://github.com/devitocodes/devito)), advanced imaging condition and efficient memory mamangement. From these rules, the AD framework will only call the propagation kernels implemented in JUDI and integrate it as part of the chain of differentiation. \n",
    "\n",
    "\n",
    "We now illustrate these capabilities on a few trivial example that show the flexibiluty of our inversion framework.\n"
   ]
  },
  {
   "cell_type": "code",
   "execution_count": 42,
   "id": "1f43cb22-eeba-441b-8254-501fb9301dbb",
   "metadata": {},
   "outputs": [
    {
     "name": "stderr",
     "output_type": "stream",
     "text": [
      "┌ Info: Precompiling Flux [587475ba-b771-5e3f-ad9e-33799f191a9c]\n",
      "└ @ Base loading.jl:1662\n"
     ]
    }
   ],
   "source": [
    "using JUDI, Flux"
   ]
  },
  {
   "cell_type": "code",
   "execution_count": 30,
   "id": "71cb1449-5ea2-4e1c-85a8-257f9cc326d3",
   "metadata": {},
   "outputs": [],
   "source": [
    "using SlimPlotting\n",
    "# Set up model structure\n",
    "n = (120, 100)   # (x,y,z) or (x,z)\n",
    "d = (10., 10.)\n",
    "o = (0., 0.)\n",
    "\n",
    "# Velocity [km/s]\n",
    "v = ones(Float32,n) .+ 0.4f0\n",
    "v0 = ones(Float32,n) .+ 0.4f0\n",
    "v[:, Int(round(end/2)):end] .= 4f0\n",
    "\n",
    "# Slowness squared [s^2/km^2]\n",
    "m = (1f0 ./ v).^2\n",
    "m0 = (1f0 ./ v0).^2\n",
    "dm = vec(m - m0);# Lets get some simple default parameter"
   ]
  },
  {
   "cell_type": "code",
   "execution_count": 31,
   "id": "609abb30-f82a-4bbd-91cc-36961872db56",
   "metadata": {},
   "outputs": [
    {
     "data": {
      "image/png": "[encoded data removed]",
      "text/plain": [
       "Figure(PyObject <Figure size 640x480 with 2 Axes>)"
      ]
     },
     "metadata": {},
     "output_type": "display_data"
    }
   ],
   "source": [
    "plot_velocity(v', d; cbar=true)"
   ]
  },
  {
   "cell_type": "code",
   "execution_count": 32,
   "id": "a9b59bc3-7c99-422f-8f51-7b389d01b9b0",
   "metadata": {},
   "outputs": [
    {
     "data": {
      "text/plain": [
       "GeometryIC{Float32} wiht 1 sources\n"
      ]
     },
     "execution_count": 32,
     "metadata": {},
     "output_type": "execute_result"
    }
   ],
   "source": [
    "# Setup model structure\n",
    "nsrc = 1\t# number of sources\n",
    "model0 = Model(n, d, o, m0)\n",
    "\n",
    "# Set up receiver geometry\n",
    "nxrec = 120\n",
    "xrec = range(50f0, stop=1150f0, length=nxrec)\n",
    "yrec = 0f0\n",
    "zrec = range(50f0, stop=50f0, length=nxrec)\n",
    "\n",
    "# receiver sampling and recording time\n",
    "time = 1000f0   # receiver recording time [ms]\n",
    "dt = 1f0    # receiver sampling interval [ms]\n",
    "\n",
    "# Set up receiver structure\n",
    "recGeometry = Geometry(xrec, yrec, zrec; dt=dt, t=time, nsrc=nsrc)\n",
    "\n",
    "## Set up source geometry (cell array with source locations for each shot)\n",
    "xsrc = convertToCell([600f0])\n",
    "ysrc = convertToCell([0f0])\n",
    "zsrc = convertToCell([20f0])\n",
    "\n",
    "# Set up source structure\n",
    "srcGeometry = Geometry(xsrc, ysrc, zsrc; dt=dt, t=time)"
   ]
  },
  {
   "cell_type": "code",
   "execution_count": 33,
   "id": "be4c99e6-8ba1-41e2-a35a-aef7d21381bd",
   "metadata": {},
   "outputs": [
    {
     "data": {
      "text/plain": [
       "judiVector{Float32, Matrix{Float32}} with 1 sources\n"
      ]
     },
     "execution_count": 33,
     "metadata": {},
     "output_type": "execute_result"
    }
   ],
   "source": [
    "\n",
    "# setup wavelet\n",
    "f0 = 0.01f0     # MHz\n",
    "wavelet = ricker_wavelet(time, dt, f0)\n",
    "q = judiVector(srcGeometry, wavelet)"
   ]
  },
  {
   "cell_type": "markdown",
   "id": "36b4b88e-18ae-4b2b-82ee-961019bddf3e",
   "metadata": {},
   "source": [
    "### Return type\n",
    "\n",
    "Whule JUDI defines its own dimensional types, it is recommended to drop the metadata and return pure array/tensors for ML. This can be done with a simple option passed to the propagators"
   ]
  },
  {
   "cell_type": "code",
   "execution_count": 34,
   "id": "95cc4a49-66f6-41d3-bad5-5a9651409152",
   "metadata": {},
   "outputs": [
    {
     "data": {
      "text/plain": [
       "JUDIOptions(8, false, false, 1000.0, false, \"\", \"shot\", false, false, Any[], \"as\", 1, 1, true, nothing, 0.015f0)"
      ]
     },
     "execution_count": 34,
     "metadata": {},
     "output_type": "execute_result"
    }
   ],
   "source": [
    "opt = Options(return_array=true)"
   ]
  },
  {
   "cell_type": "code",
   "execution_count": 35,
   "id": "d002220c-7bb4-4055-b56a-e4f996ede976",
   "metadata": {},
   "outputs": [
    {
     "data": {
      "text/plain": [
       "120120"
      ]
     },
     "execution_count": 35,
     "metadata": {},
     "output_type": "execute_result"
    }
   ],
   "source": [
    "F0 = judiModeling(model0, srcGeometry, recGeometry; options=opt)\n",
    "num_samples = recGeometry.nt[1] * nxrec # Number of value"
   ]
  },
  {
   "cell_type": "code",
   "execution_count": 43,
   "id": "4d88c778-aac4-4b3c-ab34-64ac5cfc4a2d",
   "metadata": {},
   "outputs": [],
   "source": [
    "##################################################################################\n",
    "# Fully connected neural network with linearized modeling operator\n",
    "n_in = 100\n",
    "n_out = 10\n",
    "\n",
    "W1 = randn(Float32, prod(model0.n), n_in)\n",
    "b1 = randn(Float32, prod(model0.n))\n",
    "\n",
    "W2 = judiJacobian(F0, q)\n",
    "b2 = randn(Float32, num_samples)\n",
    "\n",
    "W3 = randn(Float32, n_out, num_samples)\n",
    "b3 = randn(Float32, n_out);\n"
   ]
  },
  {
   "cell_type": "code",
   "execution_count": 44,
   "id": "6052c5de-4fb2-46e9-88cd-0d9d3e435c1d",
   "metadata": {},
   "outputs": [
    {
     "data": {
      "text/plain": [
       "network (generic function with 1 method)"
      ]
     },
     "execution_count": 44,
     "metadata": {},
     "output_type": "execute_result"
    }
   ],
   "source": [
    "function network(x)\n",
    "    x = W1*x .+ b1\n",
    "    x = vec(W2*x) .+ b2\n",
    "    x = W3*x .+ b3\n",
    "    return x\n",
    "end"
   ]
  },
  {
   "cell_type": "code",
   "execution_count": 45,
   "id": "56813121-e99e-4692-b4b0-18362df57315",
   "metadata": {},
   "outputs": [],
   "source": [
    "# Inputs and target\n",
    "x = zeros(Float32, n_in)\n",
    "y = randn(Float32, n_out);"
   ]
  },
  {
   "cell_type": "code",
   "execution_count": 46,
   "id": "fc375c75-03be-4591-b6f4-18c201f0ee89",
   "metadata": {},
   "outputs": [
    {
     "data": {
      "text/plain": [
       "loss (generic function with 2 methods)"
      ]
     },
     "execution_count": 46,
     "metadata": {},
     "output_type": "execute_result"
    }
   ],
   "source": [
    "# Evaluate MSE loss\n",
    "loss(x, y) = Flux.mse(network(x), y)\n"
   ]
  },
  {
   "cell_type": "code",
   "execution_count": 47,
   "id": "ce2a633a-4baf-4674-a550-662a742b7cf6",
   "metadata": {},
   "outputs": [
    {
     "name": "stderr",
     "output_type": "stream",
     "text": [
      "Building born operator\n",
      "Operator `born` ran in 0.03 s\n",
      "Building forward operator\n",
      "Operator `forward` ran in 0.02 s\n",
      "Building adjoint born operator\n",
      "Operator `gradient` ran in 0.03 s\n",
      "Operator `forward` ran in 0.02 s\n",
      "Operator `gradient` ran in 0.02 s\n"
     ]
    },
    {
     "data": {
      "text/plain": [
       "(Float32[-25575.016, 801948.4, 539177.56, 289529.0, -684826.7, -1.0651839f6, -159981.56, -557934.25, 267010.0, -1.1124712f6  …  359086.75, -368349.66, 198250.0, 51575.844, 18241.828, -230700.19, -408513.94, -343909.2, 70742.11, -810600.4], Float32[294.3525, -73.69617, 119.74007, 196.21997, -74.57073, -168.27766, 30.171743, -130.64662, -65.83305, -52.971554])"
      ]
     },
     "execution_count": 47,
     "metadata": {},
     "output_type": "execute_result"
    }
   ],
   "source": [
    "# Compute gradient w.r.t. x and y\n",
    "Δx, Δy = gradient(loss, x, y)\n"
   ]
  },
  {
   "cell_type": "markdown",
   "id": "8ddb2562-a69f-43a7-a41b-208718d57b56",
   "metadata": {},
   "source": [
    "And we can see that the underlying JUDI propagators were called propetly."
   ]
  },
  {
   "cell_type": "code",
   "execution_count": 48,
   "id": "cd2927ab-b7bc-4afe-84f9-453bfbad717c",
   "metadata": {},
   "outputs": [
    {
     "name": "stderr",
     "output_type": "stream",
     "text": [
      "Operator `born` ran in 0.03 s\n",
      "Operator `forward` ran in 0.02 s\n",
      "Operator `gradient` ran in 0.03 s\n",
      "Operator `forward` ran in 0.02 s\n",
      "Operator `gradient` ran in 0.02 s\n"
     ]
    },
    {
     "data": {
      "text/plain": [
       "Grads(...)"
      ]
     },
     "execution_count": 48,
     "metadata": {},
     "output_type": "execute_result"
    }
   ],
   "source": [
    "# Compute gradient for x, y and weights (except for W2)\n",
    "p = Flux.params(x, y, W1, b1, b2, W3, b3)\n",
    "gs = gradient(() -> loss(x, y), p)"
   ]
  }
 ],
 "metadata": {
  "kernelspec": {
   "display_name": "Julia 1.8.0",
   "language": "julia",
   "name": "julia-1.8"
  },
  "language_info": {
   "file_extension": ".jl",
   "mimetype": "application/julia",
   "name": "julia",
   "version": "1.8.0"
  }
 },
 "nbformat": 4,
 "nbformat_minor": 5
}
